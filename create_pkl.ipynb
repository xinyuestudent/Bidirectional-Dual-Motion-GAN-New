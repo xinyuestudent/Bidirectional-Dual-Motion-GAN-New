{
 "cells": [
  {
   "cell_type": "code",
   "execution_count": 1,
   "metadata": {},
   "outputs": [],
   "source": [
    "import PIL\n",
    "PIL.PILLOW_VERSION = PIL.__version__\n",
    "import glob\n",
    "import random\n",
    "import os\n",
    "import torchvision.transforms as transforms\n",
    "import torch\n",
    "import random\n",
    "import pickle\n",
    "from PIL import Image"
   ]
  },
  {
   "cell_type": "code",
   "execution_count": 13,
   "metadata": {},
   "outputs": [],
   "source": [
    "path = '../autodl-fs/cal/val_img/'"
   ]
  },
  {
   "cell_type": "code",
   "execution_count": 14,
   "metadata": {},
   "outputs": [],
   "source": [
    "train_pkl_file = os.listdir(path)"
   ]
  },
  {
   "cell_type": "code",
   "execution_count": 15,
   "metadata": {},
   "outputs": [],
   "source": [
    "train_pkl_file.sort()"
   ]
  },
  {
   "cell_type": "code",
   "execution_count": 16,
   "metadata": {},
   "outputs": [
    {
     "name": "stdout",
     "output_type": "stream",
     "text": [
      "create folder './dataset/pickle_data'\n"
     ]
    }
   ],
   "source": [
    "print(\"create folder './dataset/pickle_data'\")\n",
    "# data = pickle.load(train_pkl_file)\n",
    "# os.makedirs(\"./dataset/pickle_data\")\n",
    "train_dataset_output = open('./dataset/pickle_data/real_val_cal_data.pkl', 'wb')\n",
    "pickle.dump(train_pkl_file, train_dataset_output)\n",
    "train_dataset_output.close()"
   ]
  }
 ],
 "metadata": {
  "kernelspec": {
   "display_name": "Python 3 (ipykernel)",
   "language": "python",
   "name": "python3"
  },
  "language_info": {
   "codemirror_mode": {
    "name": "ipython",
    "version": 3
   },
   "file_extension": ".py",
   "mimetype": "text/x-python",
   "name": "python",
   "nbconvert_exporter": "python",
   "pygments_lexer": "ipython3",
   "version": "3.7.9"
  }
 },
 "nbformat": 4,
 "nbformat_minor": 4
}
